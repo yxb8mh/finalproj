{
 "cells": [
  {
   "cell_type": "markdown",
   "id": "5b5dac90",
   "metadata": {},
   "source": [
    "## Exploratory Data Analysis\n",
    "Carrie Feng, Oliver Meek, & Tara Udani"
   ]
  },
  {
   "cell_type": "markdown",
   "id": "a83d25d5",
   "metadata": {},
   "source": [
    "### 1. Define Your Audience / Stakeholder \n"
   "\n",
   "Clinicians, surgeons, researchers, physical therapists. Anyone who would be able to help ACLR patients recover."
   ]
  },
  {
   "cell_type": "markdown",
   "id": "98ca521e",
   "metadata": {},
   "source": [
    "### 2. Define Your Problem Statement"
   ]
  },
  {
   "cell_type": "markdown",
   "id": "a45139eb",
   "metadata": {},
   "source": [
    "Orthopedic surgeons have several options when it comes to graft type during knee surgeries. How do different graft types affect recovery outcomes, specifically in terms of knee flexion and extension strength?\n",
    "\n",
    "To gauge recovery, orthopedic surgeons measure the flexion and extension strength of impacted knees. Do knee flexion strength and extension strength progress differently during recovery? I.E. Should surgeons and physical therapists focus on one type of strength over the other during rehabilitation? (comparing physical and psychological readiness)"
   ]
  },
  {
   "cell_type": "markdown",
   "id": "5634529e",
   "metadata": {},
   "source": [
    "### 3. Identify Important Variables"
    "\n",
    "ikdc; any variables including extension or flexion data (e.g.acl_ext_mvic_90); RSI (for psychological readiness)"
   ]
  },
  {
   "cell_type": "markdown",
   "id": "5990ec8d",
   "metadata": {},
   "source": [
    "### 4. Merge & Clean the Dataset"
   ]
  },
  {
   "cell_type": "markdown",
   "id": "17a128cc",
   "metadata": {},
   "source": [
    "### 5. Descriptive Statistics & Distributions"
   ]
  },
  {
   "cell_type": "markdown",
   "id": "5f1c8612",
   "metadata": {},
   "source": [
    "### 6. Examine Correlations (if relevant)\n",
    "\n",
    "### 7. Explore Relationships (if relevant)"
   ]
  }
 ],
 "metadata": {
  "kernelspec": {
   "display_name": "base",
   "language": "python",
   "name": "python3"
  },
  "language_info": {
   "codemirror_mode": {
    "name": "ipython",
    "version": 3
   },
   "file_extension": ".py",
   "mimetype": "text/x-python",
   "name": "python",
   "nbconvert_exporter": "python",
   "pygments_lexer": "ipython3",
   "version": "3.11.4"
  }
 },
 "nbformat": 4,
 "nbformat_minor": 5
}
